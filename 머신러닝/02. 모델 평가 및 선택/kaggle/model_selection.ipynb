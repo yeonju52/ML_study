{
 "metadata": {
  "language_info": {
   "codemirror_mode": {
    "name": "ipython",
    "version": 3
   },
   "file_extension": ".py",
   "mimetype": "text/x-python",
   "name": "python",
   "nbconvert_exporter": "python",
   "pygments_lexer": "ipython3",
   "version": "3.8.5-final"
  },
  "orig_nbformat": 2,
  "kernelspec": {
   "name": "python3",
   "display_name": "Python 3",
   "language": "python"
  }
 },
 "nbformat": 4,
 "nbformat_minor": 2,
 "cells": [
  {
   "cell_type": "code",
   "execution_count": 1,
   "metadata": {},
   "outputs": [],
   "source": [
    "import pandas as pd\n",
    "\n",
    "train = pd.read_csv('data/train.csv')\n",
    "test = pd.read_csv('data/test.csv')"
   ]
  },
  {
   "cell_type": "code",
   "execution_count": 2,
   "metadata": {},
   "outputs": [
    {
     "output_type": "execute_result",
     "data": {
      "text/plain": [
       "((891, 8), (891,))"
      ]
     },
     "metadata": {},
     "execution_count": 2
    }
   ],
   "source": [
    "train_test_data = [train, test]\n",
    "for dataset in train_test_data:\n",
    "    dataset['Title'] = dataset['Name'].str.extract(' ([A-Za-z]+)\\.', expand=False)\n",
    "\n",
    "# Title\n",
    "title_mapping={\n",
    "    \"Mr\": 0, \"Miss\": 1, \"Mrs\": 2\n",
    "}\n",
    "def title_mapper(title):\n",
    "    try:\n",
    "        return title_mapping[title]\n",
    "    except:\n",
    "        return 3\n",
    "for dataset in train_test_data:\n",
    "    dataset['Title'] = dataset['Title'].map(title_mapper)\n",
    "\n",
    "# Drop Name Field\n",
    "for dataset in train_test_data:\n",
    "    dataset.drop('Name', axis=1, inplace=True)\n",
    "\n",
    "# Sex\n",
    "sex_mapping = {\"male\": 0, \"female\": 0}\n",
    "for dataset in train_test_data:\n",
    "    dataset['Sex'] = dataset['Sex'].map(sex_mapping) \n",
    "\n",
    "# fill missing age\n",
    "for dataset in train_test_data:\n",
    "    dataset['Age'].fillna(dataset.groupby(\"Title\")['Age'].transform(\"median\"), inplace=True)\n",
    "\n",
    "def age_binning(age):\n",
    "    if age <=16: return 0\n",
    "    elif age <=26: return 1\n",
    "    elif age <= 36: return 2\n",
    "    elif age <= 62: return 3\n",
    "    else: return 4\n",
    "\n",
    "for dataset in train_test_data:\n",
    "    dataset['Age'] = dataset['Age'].map(age_binning)\n",
    "\n",
    "\n",
    "# Embarked - fill Na and mapping\n",
    "embarked_mapping = {\n",
    "    'S': 0, 'C': 1, 'Q': 2\n",
    "}\n",
    "for dataset in train_test_data:\n",
    "    dataset['Embarked'] = dataset['Embarked'].fillna('S').map(embarked_mapping)\n",
    "\n",
    "\n",
    "# fill missing fare : median of same pclass\n",
    "for dataset in train_test_data:\n",
    "    dataset['Fare'].fillna(dataset.groupby(\"Pclass\")['Fare'].transform(\"median\"), inplace=True)\n",
    "\n",
    "def fare_binning(fare):\n",
    "    if fare <=17: return 0\n",
    "    elif fare <=30: return 1\n",
    "    elif fare <= 100: return 2\n",
    "    else: return 3\n",
    "\n",
    "for dataset in train_test_data:\n",
    "    dataset['Fare'] = dataset['Fare'].map(fare_binning)\n",
    "\n",
    "# Get first Character\n",
    "for dataset in train_test_data:\n",
    "    dataset['Cabin'] = dataset['Cabin'].str[:1]\n",
    "\n",
    "# cabin mapping\n",
    "# scale: 0.3\n",
    "cabin_mapping = {\n",
    "    'A': 0, 'B': 0.3, 'C': 0.6,\n",
    "    'D': 0.9, 'E': 1.2, 'F': 1.5,\n",
    "    'G': 1.8, 'T': 2.1\n",
    "}\n",
    "\n",
    "for dataset in train_test_data:\n",
    "    dataset['Cabin'] = dataset['Cabin'].map(cabin_mapping)\n",
    "\n",
    "for dataset in train_test_data:\n",
    "    dataset['Cabin'].fillna(dataset.groupby('Pclass')['Cabin'].transform(\"median\"), inplace=True)\n",
    "\n",
    "# Family Size\n",
    "for dataset in train_test_data:\n",
    "    dataset['FamilySize'] = dataset['Parch'] + dataset['SibSp'] + 1\n",
    "\n",
    "# Family Size scaling\n",
    "scale = 0.5\n",
    "for dataset in train_test_data:\n",
    "    dataset['FamilySize'] = (dataset['FamilySize']-1)*scale\n",
    "\n",
    "# Drop Fields : Parch, SibSp, Ticket\n",
    "features_drop = ['Parch', 'SibSp', 'Ticket']\n",
    "train = train.drop(features_drop, axis=1)\n",
    "test = test.drop(features_drop, axis=1)\n",
    "\n",
    "train = train.drop('PassengerId', axis=1)\n",
    "\n",
    "# Extract target(Survived) data\n",
    "train_data = train.drop('Survived', axis=1)\n",
    "train_target = train['Survived']\n",
    "\n",
    "train_data.shape, train_target.shape"
   ]
  },
  {
   "cell_type": "code",
   "execution_count": 3,
   "metadata": {},
   "outputs": [
    {
     "output_type": "execute_result",
     "data": {
      "text/plain": [
       "   Pclass  Sex  Age  Fare  Cabin  Embarked  Title  FamilySize\n",
       "0       3    0    1     0    1.5         0      0         0.5\n",
       "1       1    0    3     2    0.6         1      2         0.5\n",
       "2       3    0    1     0    1.5         0      1         0.0\n",
       "3       1    0    2     2    0.6         0      2         0.5\n",
       "4       3    0    2     0    1.5         0      0         0.0"
      ],
      "text/html": "<div>\n<style scoped>\n    .dataframe tbody tr th:only-of-type {\n        vertical-align: middle;\n    }\n\n    .dataframe tbody tr th {\n        vertical-align: top;\n    }\n\n    .dataframe thead th {\n        text-align: right;\n    }\n</style>\n<table border=\"1\" class=\"dataframe\">\n  <thead>\n    <tr style=\"text-align: right;\">\n      <th></th>\n      <th>Pclass</th>\n      <th>Sex</th>\n      <th>Age</th>\n      <th>Fare</th>\n      <th>Cabin</th>\n      <th>Embarked</th>\n      <th>Title</th>\n      <th>FamilySize</th>\n    </tr>\n  </thead>\n  <tbody>\n    <tr>\n      <th>0</th>\n      <td>3</td>\n      <td>0</td>\n      <td>1</td>\n      <td>0</td>\n      <td>1.5</td>\n      <td>0</td>\n      <td>0</td>\n      <td>0.5</td>\n    </tr>\n    <tr>\n      <th>1</th>\n      <td>1</td>\n      <td>0</td>\n      <td>3</td>\n      <td>2</td>\n      <td>0.6</td>\n      <td>1</td>\n      <td>2</td>\n      <td>0.5</td>\n    </tr>\n    <tr>\n      <th>2</th>\n      <td>3</td>\n      <td>0</td>\n      <td>1</td>\n      <td>0</td>\n      <td>1.5</td>\n      <td>0</td>\n      <td>1</td>\n      <td>0.0</td>\n    </tr>\n    <tr>\n      <th>3</th>\n      <td>1</td>\n      <td>0</td>\n      <td>2</td>\n      <td>2</td>\n      <td>0.6</td>\n      <td>0</td>\n      <td>2</td>\n      <td>0.5</td>\n    </tr>\n    <tr>\n      <th>4</th>\n      <td>3</td>\n      <td>0</td>\n      <td>2</td>\n      <td>0</td>\n      <td>1.5</td>\n      <td>0</td>\n      <td>0</td>\n      <td>0.0</td>\n    </tr>\n  </tbody>\n</table>\n</div>"
     },
     "metadata": {},
     "execution_count": 3
    }
   ],
   "source": [
    "train_data.head()"
   ]
  },
  {
   "cell_type": "code",
   "execution_count": 4,
   "metadata": {},
   "outputs": [],
   "source": [
    "from sklearn.neighbors import KNeighborsClassifier\n",
    "import numpy as np\n",
    "\n",
    "scoring='accuracy'\n",
    "classifier = KNeighborsClassifier(n_neighbors=13)"
   ]
  },
  {
   "source": [
    " # Cross Validation (K-fold)"
   ],
   "cell_type": "markdown",
   "metadata": {}
  },
  {
   "source": [
    "# K-fold (n=10)"
   ],
   "cell_type": "markdown",
   "metadata": {}
  },
  {
   "cell_type": "code",
   "execution_count": 17,
   "metadata": {},
   "outputs": [
    {
     "output_type": "stream",
     "name": "stdout",
     "text": [
      "CPU times: user 80.8 ms, sys: 2.24 ms, total: 83.1 ms\nWall time: 81.9 ms\nAverage Score:  80.92\n"
     ]
    }
   ],
   "source": [
    "from sklearn.model_selection import cross_val_score, KFold\n",
    "\n",
    "k_fold = KFold(n_splits=10, shuffle=True, random_state=0)\n",
    "%time score = cross_val_score(classifier, train_data, train_target, cv=k_fold, n_jobs=1)\n",
    "print('Average Score: ', round(100*sum(score)/len(score), 2))\n"
   ]
  },
  {
   "source": [
    "# K-fold (n=5)"
   ],
   "cell_type": "markdown",
   "metadata": {}
  },
  {
   "cell_type": "code",
   "execution_count": 18,
   "metadata": {},
   "outputs": [
    {
     "output_type": "stream",
     "name": "stdout",
     "text": [
      "CPU times: user 57 ms, sys: 2.36 ms, total: 59.4 ms\nWall time: 57.9 ms\nAverage Score:  80.36\n"
     ]
    }
   ],
   "source": [
    "k_fold = KFold(n_splits=5, shuffle=True, random_state=0)\n",
    "%time score = cross_val_score(classifier, train_data, train_target, cv=k_fold, n_jobs=1)\n",
    "print('Average Score: ', round(100*sum(score)/len(score), 2))"
   ]
  },
  {
   "source": [
    "# K-fold (n=20)"
   ],
   "cell_type": "markdown",
   "metadata": {}
  },
  {
   "cell_type": "code",
   "execution_count": 19,
   "metadata": {},
   "outputs": [
    {
     "output_type": "stream",
     "name": "stdout",
     "text": [
      "CPU times: user 122 ms, sys: 2.21 ms, total: 124 ms\nWall time: 123 ms\nAverage Score:  79.91\n"
     ]
    }
   ],
   "source": [
    "k_fold = KFold(n_splits=20, shuffle=True, random_state=0)\n",
    "%time score = cross_val_score(classifier, train_data, train_target, cv=k_fold, n_jobs=1)\n",
    "print('Average Score: ', round(100*sum(score)/len(score), 2))"
   ]
  },
  {
   "source": [
    "# K-fold (n=10) : Not Shuffled"
   ],
   "cell_type": "markdown",
   "metadata": {}
  },
  {
   "cell_type": "code",
   "execution_count": 20,
   "metadata": {},
   "outputs": [
    {
     "output_type": "stream",
     "name": "stdout",
     "text": [
      "CPU times: user 78.8 ms, sys: 2.12 ms, total: 80.9 ms\nWall time: 79.6 ms\nAverage Score:  79.92\n"
     ]
    }
   ],
   "source": [
    "k_fold = KFold(n_splits=10, shuffle=False)\n",
    "%time score = cross_val_score(classifier, train_data, train_target, cv=k_fold, n_jobs=1)\n",
    "print('Average Score: ', round(100*sum(score)/len(score), 2))"
   ]
  },
  {
   "source": [
    "# LOOCV\n",
    "## Leave-One-Out Cross Validation"
   ],
   "cell_type": "markdown",
   "metadata": {}
  },
  {
   "cell_type": "code",
   "execution_count": 21,
   "metadata": {},
   "outputs": [
    {
     "output_type": "stream",
     "name": "stdout",
     "text": [
      "CPU times: user 3.54 s, sys: 36.1 ms, total: 3.57 s\nWall time: 3.58 s\nAverage Score:  81.03\n"
     ]
    }
   ],
   "source": [
    "from sklearn.model_selection import LeaveOneOut\n",
    "\n",
    "loocv = LeaveOneOut()\n",
    "%time score = cross_val_score(classifier, train_data, train_target, cv=loocv)\n",
    "print('Average Score: ', round(100*sum(score)/len(score), 2))"
   ]
  },
  {
   "cell_type": "code",
   "execution_count": 101,
   "metadata": {},
   "outputs": [
    {
     "output_type": "stream",
     "name": "stdout",
     "text": [
      "CPU times: user 3.56 s, sys: 36.3 ms, total: 3.6 s\nWall time: 3.61 s\nAverage Score:  81.03\n"
     ]
    }
   ],
   "source": [
    "k_fold = KFold(n_splits=891, shuffle=False)\n",
    "%time score = cross_val_score(classifier, train_data, train_target, cv=k_fold, n_jobs=1)\n",
    "print('Average Score: ', round(100*sum(score)/len(score), 2))"
   ]
  },
  {
   "source": [
    "#  Stratified k-fold Cross Validation"
   ],
   "cell_type": "markdown",
   "metadata": {}
  },
  {
   "cell_type": "code",
   "execution_count": 99,
   "metadata": {},
   "outputs": [
    {
     "output_type": "stream",
     "name": "stdout",
     "text": [
      "CPU times: user 80.7 ms, sys: 2.04 ms, total: 82.7 ms\nWall time: 81.7 ms\nAverage Score:  81.03\n"
     ]
    }
   ],
   "source": [
    "from sklearn.model_selection import StratifiedKFold\n",
    "\n",
    "sk_fold = StratifiedKFold(n_splits=10, shuffle=True)\n",
    "%time score = cross_val_score(classifier, train_data, train_target, cv=sk_fold)\n",
    "print('Average Score: ', round(100*sum(score)/len(score), 2))"
   ]
  },
  {
   "source": [
    "# Shuffle Split Cross Validation\n",
    "## 임의 분할 교차 검증"
   ],
   "cell_type": "markdown",
   "metadata": {}
  },
  {
   "cell_type": "code",
   "execution_count": 57,
   "metadata": {},
   "outputs": [
    {
     "output_type": "stream",
     "name": "stdout",
     "text": [
      "CPU times: user 172 ms, sys: 2.23 ms, total: 174 ms\nWall time: 174 ms\nAverage Score:  78.39\n"
     ]
    }
   ],
   "source": [
    "from sklearn.model_selection import ShuffleSplit\n",
    "\n",
    "shuffle_split = ShuffleSplit(test_size=0.5, train_size=0.5, n_splits=10)\n",
    "%time score = cross_val_score(classifier, train_data, train_target, cv=shuffle_split)\n",
    "print('Average Score: ', round(100*sum(score)/len(score), 2))"
   ]
  },
  {
   "cell_type": "code",
   "execution_count": null,
   "metadata": {},
   "outputs": [],
   "source": []
  }
 ]
}