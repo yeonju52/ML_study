{
 "cells": [
  {
   "cell_type": "code",
   "execution_count": 2,
   "metadata": {},
   "outputs": [],
   "source": [
    "# 중고차 가격 예측"
   ]
  },
  {
   "cell_type": "code",
   "execution_count": 57,
   "metadata": {},
   "outputs": [],
   "source": [
    "# 라이브러리 import\n",
    "# pandas: csv 파일 처리에 유용\n",
    "# matplotlib: 데이터 시각화에 이용\n",
    "# sklearn: 머신러닝 라이브러리\n",
    "import numpy as np\n",
    "import pandas as pd\n",
    "import matplotlib.pyplot as plt\n",
    "import seaborn as sns\n",
    "from sklearn.preprocessing import LabelEncoder\n",
    "from sklearn.model_selection import train_test_split\n",
    "from sklearn.metrics import mean_absolute_error\n",
    "from sklearn.linear_model import LinearRegression\n",
    "from sklearn.metrics import accuracy_score, confusion_matrix, r2_score\n",
    "from sklearn import preprocessing"
   ]
  },
  {
   "cell_type": "code",
   "execution_count": 5,
   "metadata": {},
   "outputs": [
    {
     "data": {
      "text/html": [
       "<div>\n",
       "<style scoped>\n",
       "    .dataframe tbody tr th:only-of-type {\n",
       "        vertical-align: middle;\n",
       "    }\n",
       "\n",
       "    .dataframe tbody tr th {\n",
       "        vertical-align: top;\n",
       "    }\n",
       "\n",
       "    .dataframe thead th {\n",
       "        text-align: right;\n",
       "    }\n",
       "</style>\n",
       "<table border=\"1\" class=\"dataframe\">\n",
       "  <thead>\n",
       "    <tr style=\"text-align: right;\">\n",
       "      <th></th>\n",
       "      <th>Unnamed: 0</th>\n",
       "      <th>Name</th>\n",
       "      <th>Location</th>\n",
       "      <th>Year</th>\n",
       "      <th>Kilometers_Driven</th>\n",
       "      <th>Fuel_Type</th>\n",
       "      <th>Transmission</th>\n",
       "      <th>Owner_Type</th>\n",
       "      <th>Mileage</th>\n",
       "      <th>Engine</th>\n",
       "      <th>Power</th>\n",
       "      <th>Seats</th>\n",
       "      <th>New_Price</th>\n",
       "      <th>Price</th>\n",
       "    </tr>\n",
       "  </thead>\n",
       "  <tbody>\n",
       "    <tr>\n",
       "      <th>0</th>\n",
       "      <td>0</td>\n",
       "      <td>Maruti Wagon R LXI CNG</td>\n",
       "      <td>Mumbai</td>\n",
       "      <td>2010</td>\n",
       "      <td>72000</td>\n",
       "      <td>CNG</td>\n",
       "      <td>Manual</td>\n",
       "      <td>First</td>\n",
       "      <td>26.6 km/kg</td>\n",
       "      <td>998 CC</td>\n",
       "      <td>58.16 bhp</td>\n",
       "      <td>5.0</td>\n",
       "      <td>NaN</td>\n",
       "      <td>1.75</td>\n",
       "    </tr>\n",
       "    <tr>\n",
       "      <th>1</th>\n",
       "      <td>1</td>\n",
       "      <td>Hyundai Creta 1.6 CRDi SX Option</td>\n",
       "      <td>Pune</td>\n",
       "      <td>2015</td>\n",
       "      <td>41000</td>\n",
       "      <td>Diesel</td>\n",
       "      <td>Manual</td>\n",
       "      <td>First</td>\n",
       "      <td>19.67 kmpl</td>\n",
       "      <td>1582 CC</td>\n",
       "      <td>126.2 bhp</td>\n",
       "      <td>5.0</td>\n",
       "      <td>NaN</td>\n",
       "      <td>12.50</td>\n",
       "    </tr>\n",
       "    <tr>\n",
       "      <th>2</th>\n",
       "      <td>2</td>\n",
       "      <td>Honda Jazz V</td>\n",
       "      <td>Chennai</td>\n",
       "      <td>2011</td>\n",
       "      <td>46000</td>\n",
       "      <td>Petrol</td>\n",
       "      <td>Manual</td>\n",
       "      <td>First</td>\n",
       "      <td>18.2 kmpl</td>\n",
       "      <td>1199 CC</td>\n",
       "      <td>88.7 bhp</td>\n",
       "      <td>5.0</td>\n",
       "      <td>8.61 Lakh</td>\n",
       "      <td>4.50</td>\n",
       "    </tr>\n",
       "    <tr>\n",
       "      <th>3</th>\n",
       "      <td>3</td>\n",
       "      <td>Maruti Ertiga VDI</td>\n",
       "      <td>Chennai</td>\n",
       "      <td>2012</td>\n",
       "      <td>87000</td>\n",
       "      <td>Diesel</td>\n",
       "      <td>Manual</td>\n",
       "      <td>First</td>\n",
       "      <td>20.77 kmpl</td>\n",
       "      <td>1248 CC</td>\n",
       "      <td>88.76 bhp</td>\n",
       "      <td>7.0</td>\n",
       "      <td>NaN</td>\n",
       "      <td>6.00</td>\n",
       "    </tr>\n",
       "    <tr>\n",
       "      <th>4</th>\n",
       "      <td>4</td>\n",
       "      <td>Audi A4 New 2.0 TDI Multitronic</td>\n",
       "      <td>Coimbatore</td>\n",
       "      <td>2013</td>\n",
       "      <td>40670</td>\n",
       "      <td>Diesel</td>\n",
       "      <td>Automatic</td>\n",
       "      <td>Second</td>\n",
       "      <td>15.2 kmpl</td>\n",
       "      <td>1968 CC</td>\n",
       "      <td>140.8 bhp</td>\n",
       "      <td>5.0</td>\n",
       "      <td>NaN</td>\n",
       "      <td>17.74</td>\n",
       "    </tr>\n",
       "  </tbody>\n",
       "</table>\n",
       "</div>"
      ],
      "text/plain": [
       "   Unnamed: 0                              Name    Location  Year  \\\n",
       "0           0            Maruti Wagon R LXI CNG      Mumbai  2010   \n",
       "1           1  Hyundai Creta 1.6 CRDi SX Option        Pune  2015   \n",
       "2           2                      Honda Jazz V     Chennai  2011   \n",
       "3           3                 Maruti Ertiga VDI     Chennai  2012   \n",
       "4           4   Audi A4 New 2.0 TDI Multitronic  Coimbatore  2013   \n",
       "\n",
       "   Kilometers_Driven Fuel_Type Transmission Owner_Type     Mileage   Engine  \\\n",
       "0              72000       CNG       Manual      First  26.6 km/kg   998 CC   \n",
       "1              41000    Diesel       Manual      First  19.67 kmpl  1582 CC   \n",
       "2              46000    Petrol       Manual      First   18.2 kmpl  1199 CC   \n",
       "3              87000    Diesel       Manual      First  20.77 kmpl  1248 CC   \n",
       "4              40670    Diesel    Automatic     Second   15.2 kmpl  1968 CC   \n",
       "\n",
       "       Power  Seats  New_Price  Price  \n",
       "0  58.16 bhp    5.0        NaN   1.75  \n",
       "1  126.2 bhp    5.0        NaN  12.50  \n",
       "2   88.7 bhp    5.0  8.61 Lakh   4.50  \n",
       "3  88.76 bhp    7.0        NaN   6.00  \n",
       "4  140.8 bhp    5.0        NaN  17.74  "
      ]
     },
     "execution_count": 5,
     "metadata": {},
     "output_type": "execute_result"
    }
   ],
   "source": [
    "# data 파일 불러와서 구조 확인\n",
    "dummy_data = pd.read_csv('./train-data.csv')\n",
    "dummy_data.head()"
   ]
  },
  {
   "cell_type": "code",
   "execution_count": 6,
   "metadata": {},
   "outputs": [
    {
     "name": "stdout",
     "output_type": "stream",
     "text": [
      "row 수: 6019, col 수: 14\n"
     ]
    }
   ],
   "source": [
    "# data의 row, col 수를 알아보자\n",
    "print('row 수: {}, col 수: {}'.format(dummy_data.shape[0], dummy_data.shape[1]))"
   ]
  },
  {
   "cell_type": "code",
   "execution_count": 7,
   "metadata": {},
   "outputs": [],
   "source": [
    "# 자동차의 모델, 연식, 킬로미터수, 연료타입 등을 활용하여 가격을 예측해보자!\n",
    "# CH 3에서 언급했던 회귀모델을 이용할 것."
   ]
  },
  {
   "cell_type": "code",
   "execution_count": 9,
   "metadata": {},
   "outputs": [
    {
     "data": {
      "text/plain": [
       "(823, 14)"
      ]
     },
     "execution_count": 9,
     "metadata": {},
     "output_type": "execute_result"
    }
   ],
   "source": [
    "## 데이터 전처리\n",
    "\n",
    "# NaN(결측치)를 확인하고 제거\n",
    "# 결측치란? 누락된 데이터, 종류(패턴이 없는 무작위값, 패턴을 가진 값)\n",
    "# 데이터가 수치 값이면 평균값을 넣어주는 등의 처리 \n",
    "# 문자열이면 대체하기 어려워 해당 row 제거\n",
    "\n",
    "# 일단 결측치를 제거해서 처리해보자\n",
    "clean_data = dummy_data.copy(deep=True)\n",
    "clean_data.dropna('index').shape"
   ]
  },
  {
   "cell_type": "code",
   "execution_count": 10,
   "metadata": {},
   "outputs": [
    {
     "data": {
      "text/plain": [
       "(5975, 12)"
      ]
     },
     "execution_count": 10,
     "metadata": {},
     "output_type": "execute_result"
    }
   ],
   "source": [
    "# 6019개 -> 823개. 너무 많이 손실된다!\n",
    "# 왜그런지 보니까 New_Price의 값에 NaN이 굉장히 많다.\n",
    "# 그냥 New_Price 컬럼을 제거해버리자\n",
    "# + unnamed:0 컬럼도 단순 인덱스 표시용이므로 제거하자\n",
    "clean_data.drop(columns=['Unnamed: 0', 'New_Price'], inplace=True)\n",
    "clean_data.dropna('index', inplace=True)\n",
    "clean_data = clean_data.reset_index(drop=True)\n",
    "clean_data.shape"
   ]
  },
  {
   "cell_type": "code",
   "execution_count": 12,
   "metadata": {},
   "outputs": [
    {
     "data": {
      "text/plain": [
       "31"
      ]
     },
     "execution_count": 12,
     "metadata": {},
     "output_type": "execute_result"
    }
   ],
   "source": [
    "# 우선 차의 모델명\n",
    "# 차의 모델명: Name 컬럼\n",
    "# 오버피팅을 초래할 수 있기 때문에 차종의 Hyundai Creta ...에서 Hyundai만 남김\n",
    "names = list(clean_data.Name)\n",
    "for i in range(len(names)):\n",
    "    names[i] = names[i].split(' ', 1)[0]\n",
    "clean_data.Name = names\n",
    "clean_data.head()\n",
    "\n",
    "len(np.unique(list(clean_data.Name)))"
   ]
  },
  {
   "cell_type": "code",
   "execution_count": 13,
   "metadata": {},
   "outputs": [
    {
     "data": {
      "text/html": [
       "<div>\n",
       "<style scoped>\n",
       "    .dataframe tbody tr th:only-of-type {\n",
       "        vertical-align: middle;\n",
       "    }\n",
       "\n",
       "    .dataframe tbody tr th {\n",
       "        vertical-align: top;\n",
       "    }\n",
       "\n",
       "    .dataframe thead th {\n",
       "        text-align: right;\n",
       "    }\n",
       "</style>\n",
       "<table border=\"1\" class=\"dataframe\">\n",
       "  <thead>\n",
       "    <tr style=\"text-align: right;\">\n",
       "      <th></th>\n",
       "      <th>Name</th>\n",
       "      <th>Location</th>\n",
       "      <th>Year</th>\n",
       "      <th>Kilometers_Driven</th>\n",
       "      <th>Fuel_Type</th>\n",
       "      <th>Transmission</th>\n",
       "      <th>Owner_Type</th>\n",
       "      <th>Mileage</th>\n",
       "      <th>Engine</th>\n",
       "      <th>Power</th>\n",
       "      <th>Seats</th>\n",
       "      <th>Price</th>\n",
       "    </tr>\n",
       "  </thead>\n",
       "  <tbody>\n",
       "    <tr>\n",
       "      <th>0</th>\n",
       "      <td>Maruti</td>\n",
       "      <td>Mumbai</td>\n",
       "      <td>2010</td>\n",
       "      <td>72000</td>\n",
       "      <td>CNG</td>\n",
       "      <td>Manual</td>\n",
       "      <td>First</td>\n",
       "      <td>26.6</td>\n",
       "      <td>998</td>\n",
       "      <td>58.16</td>\n",
       "      <td>5.0</td>\n",
       "      <td>1.75</td>\n",
       "    </tr>\n",
       "    <tr>\n",
       "      <th>1</th>\n",
       "      <td>Hyundai</td>\n",
       "      <td>Pune</td>\n",
       "      <td>2015</td>\n",
       "      <td>41000</td>\n",
       "      <td>Diesel</td>\n",
       "      <td>Manual</td>\n",
       "      <td>First</td>\n",
       "      <td>19.67</td>\n",
       "      <td>1582</td>\n",
       "      <td>126.2</td>\n",
       "      <td>5.0</td>\n",
       "      <td>12.50</td>\n",
       "    </tr>\n",
       "    <tr>\n",
       "      <th>2</th>\n",
       "      <td>Honda</td>\n",
       "      <td>Chennai</td>\n",
       "      <td>2011</td>\n",
       "      <td>46000</td>\n",
       "      <td>Petrol</td>\n",
       "      <td>Manual</td>\n",
       "      <td>First</td>\n",
       "      <td>18.2</td>\n",
       "      <td>1199</td>\n",
       "      <td>88.7</td>\n",
       "      <td>5.0</td>\n",
       "      <td>4.50</td>\n",
       "    </tr>\n",
       "    <tr>\n",
       "      <th>3</th>\n",
       "      <td>Maruti</td>\n",
       "      <td>Chennai</td>\n",
       "      <td>2012</td>\n",
       "      <td>87000</td>\n",
       "      <td>Diesel</td>\n",
       "      <td>Manual</td>\n",
       "      <td>First</td>\n",
       "      <td>20.77</td>\n",
       "      <td>1248</td>\n",
       "      <td>88.76</td>\n",
       "      <td>7.0</td>\n",
       "      <td>6.00</td>\n",
       "    </tr>\n",
       "    <tr>\n",
       "      <th>4</th>\n",
       "      <td>Audi</td>\n",
       "      <td>Coimbatore</td>\n",
       "      <td>2013</td>\n",
       "      <td>40670</td>\n",
       "      <td>Diesel</td>\n",
       "      <td>Automatic</td>\n",
       "      <td>Second</td>\n",
       "      <td>15.2</td>\n",
       "      <td>1968</td>\n",
       "      <td>140.8</td>\n",
       "      <td>5.0</td>\n",
       "      <td>17.74</td>\n",
       "    </tr>\n",
       "  </tbody>\n",
       "</table>\n",
       "</div>"
      ],
      "text/plain": [
       "      Name    Location  Year  Kilometers_Driven Fuel_Type Transmission  \\\n",
       "0   Maruti      Mumbai  2010              72000       CNG       Manual   \n",
       "1  Hyundai        Pune  2015              41000    Diesel       Manual   \n",
       "2    Honda     Chennai  2011              46000    Petrol       Manual   \n",
       "3   Maruti     Chennai  2012              87000    Diesel       Manual   \n",
       "4     Audi  Coimbatore  2013              40670    Diesel    Automatic   \n",
       "\n",
       "  Owner_Type Mileage Engine  Power  Seats  Price  \n",
       "0      First    26.6    998  58.16    5.0   1.75  \n",
       "1      First   19.67   1582  126.2    5.0  12.50  \n",
       "2      First    18.2   1199   88.7    5.0   4.50  \n",
       "3      First   20.77   1248  88.76    7.0   6.00  \n",
       "4     Second    15.2   1968  140.8    5.0  17.74  "
      ]
     },
     "execution_count": 13,
     "metadata": {},
     "output_type": "execute_result"
    }
   ],
   "source": [
    "# 컬럼들 중 단위를 가지고 있는 컬럼에서 단위를 제거하고 수치만 남기자\n",
    "mileage = list(clean_data.Mileage)\n",
    "engine = list(clean_data.Engine)\n",
    "power = list(clean_data.Power)\n",
    "\n",
    "for i in range(len(names)):\n",
    "    mileage[i] = mileage[i].split(' ', 1)[0]\n",
    "    engine[i] = engine[i].split(' ',1)[0]\n",
    "    power[i] = power[i].split(' ',1)[0]\n",
    "    \n",
    "clean_data.Mileage = mileage\n",
    "clean_data.Engine = engine\n",
    "clean_data.Power = power\n",
    "clean_data.head()"
   ]
  },
  {
   "cell_type": "code",
   "execution_count": 14,
   "metadata": {},
   "outputs": [
    {
     "data": {
      "text/plain": [
       "Name                  object\n",
       "Location              object\n",
       "Year                   int64\n",
       "Kilometers_Driven    float64\n",
       "Fuel_Type             object\n",
       "Transmission          object\n",
       "Owner_Type            object\n",
       "Mileage              float64\n",
       "Engine               float64\n",
       "Power                 object\n",
       "Seats                float64\n",
       "Price                float64\n",
       "dtype: object"
      ]
     },
     "execution_count": 14,
     "metadata": {},
     "output_type": "execute_result"
    }
   ],
   "source": [
    "# 이제 각 컬럼의 데이터형을 확인해보자\n",
    "clean_data[\"Price\"] = clean_data[\"Price\"].astype(float)\n",
    "clean_data[\"Kilometers_Driven\"] = clean_data[\"Kilometers_Driven\"].astype(float)\n",
    "clean_data[\"Mileage\"] = clean_data[\"Mileage\"].astype(float)\n",
    "clean_data[\"Engine\"] = clean_data[\"Engine\"].astype(float)\n",
    "clean_data.dtypes"
   ]
  },
  {
   "cell_type": "code",
   "execution_count": 15,
   "metadata": {},
   "outputs": [
    {
     "data": {
      "text/plain": [
       "array(['Ambassador', 'Audi', 'BMW', 'Bentley', 'Chevrolet', 'Datsun',\n",
       "       'Fiat', 'Force', 'Ford', 'Honda', 'Hyundai', 'ISUZU', 'Isuzu',\n",
       "       'Jaguar', 'Jeep', 'Lamborghini', 'Land', 'Mahindra', 'Maruti',\n",
       "       'Mercedes-Benz', 'Mini', 'Mitsubishi', 'Nissan', 'Porsche',\n",
       "       'Renault', 'Skoda', 'Smart', 'Tata', 'Toyota', 'Volkswagen',\n",
       "       'Volvo'], dtype='<U13')"
      ]
     },
     "execution_count": 15,
     "metadata": {},
     "output_type": "execute_result"
    }
   ],
   "source": [
    "# 각 컬럼들의 도메인을 확인해보자\n",
    "np.unique(list(clean_data.Name))"
   ]
  },
  {
   "cell_type": "code",
   "execution_count": 16,
   "metadata": {},
   "outputs": [
    {
     "data": {
      "text/plain": [
       "array(['Ahmedabad', 'Bangalore', 'Chennai', 'Coimbatore', 'Delhi',\n",
       "       'Hyderabad', 'Jaipur', 'Kochi', 'Kolkata', 'Mumbai', 'Pune'],\n",
       "      dtype='<U10')"
      ]
     },
     "execution_count": 16,
     "metadata": {},
     "output_type": "execute_result"
    }
   ],
   "source": [
    "np.unique(list(clean_data.Location))"
   ]
  },
  {
   "cell_type": "code",
   "execution_count": 17,
   "metadata": {},
   "outputs": [
    {
     "data": {
      "text/plain": [
       "array([1998, 1999, 2000, 2001, 2002, 2003, 2004, 2005, 2006, 2007, 2008,\n",
       "       2009, 2010, 2011, 2012, 2013, 2014, 2015, 2016, 2017, 2018, 2019])"
      ]
     },
     "execution_count": 17,
     "metadata": {},
     "output_type": "execute_result"
    }
   ],
   "source": [
    "np.unique(list(clean_data.Year))"
   ]
  },
  {
   "cell_type": "code",
   "execution_count": 18,
   "metadata": {},
   "outputs": [
    {
     "data": {
      "text/plain": [
       "array(['CNG', 'Diesel', 'LPG', 'Petrol'], dtype='<U6')"
      ]
     },
     "execution_count": 18,
     "metadata": {},
     "output_type": "execute_result"
    }
   ],
   "source": [
    "np.unique(list(clean_data.Fuel_Type))"
   ]
  },
  {
   "cell_type": "code",
   "execution_count": 19,
   "metadata": {},
   "outputs": [
    {
     "data": {
      "text/plain": [
       "array(['Automatic', 'Manual'], dtype='<U9')"
      ]
     },
     "execution_count": 19,
     "metadata": {},
     "output_type": "execute_result"
    }
   ],
   "source": [
    "np.unique(list(clean_data.Transmission))"
   ]
  },
  {
   "cell_type": "code",
   "execution_count": 20,
   "metadata": {},
   "outputs": [
    {
     "data": {
      "text/plain": [
       "array(['First', 'Fourth & Above', 'Second', 'Third'], dtype='<U14')"
      ]
     },
     "execution_count": 20,
     "metadata": {},
     "output_type": "execute_result"
    }
   ],
   "source": [
    "np.unique(list(clean_data.Owner_Type))"
   ]
  },
  {
   "cell_type": "code",
   "execution_count": 21,
   "metadata": {},
   "outputs": [
    {
     "data": {
      "text/plain": [
       "array([ 0.,  2.,  4.,  5.,  6.,  7.,  8.,  9., 10.])"
      ]
     },
     "execution_count": 21,
     "metadata": {},
     "output_type": "execute_result"
    }
   ],
   "source": [
    "np.unique(list(clean_data.Seats))"
   ]
  },
  {
   "cell_type": "code",
   "execution_count": 23,
   "metadata": {},
   "outputs": [
    {
     "name": "stdout",
     "output_type": "stream",
     "text": [
      "(5974, 12)\n"
     ]
    }
   ],
   "source": [
    "# Seats 컬럼에서 좌석의 수가 0인건 제거해주자\n",
    "clean_data = clean_data[clean_data.Seats != 0]\n",
    "print(clean_data.shape)"
   ]
  },
  {
   "cell_type": "code",
   "execution_count": 24,
   "metadata": {},
   "outputs": [
    {
     "data": {
      "text/plain": [
       "array(['100', '100.6', '101', '102', '102.5', '102.53', '102.57', '103',\n",
       "       '103.2', '103.25', '103.3', '103.5', '103.52', '103.6', '104',\n",
       "       '104.68', '105', '105.5', '106', '107.2', '107.3', '108.4',\n",
       "       '108.45', '108.49', '108.495', '108.5', '108.62', '110', '110.4',\n",
       "       '110.5', '112', '112.2', '112.4', '113.98', '114', '114.4', '115',\n",
       "       '116.3', '116.4', '116.6', '116.9', '117.3', '118', '118.3',\n",
       "       '118.6', '120', '120.33', '120.7', '121.3', '121.36', '121.4',\n",
       "       '122', '123.24', '123.37', '123.7', '125', '126.2', '126.24',\n",
       "       '126.3', '126.32', '127', '130', '130.2', '130.3', '132', '134',\n",
       "       '135.1', '136', '138', '138.02', '138.03', '138.08', '138.1',\n",
       "       '139.01', '139.07', '140', '140.8', '141', '141.1', '142', '143',\n",
       "       '144', '147.5', '147.51', '147.6', '147.8', '147.9', '148',\n",
       "       '148.31', '149.92', '150', '152', '152.88', '153.86', '154', '155',\n",
       "       '156', '157.7', '157.75', '157.8', '158', '158.2', '158.8', '160',\n",
       "       '161.6', '162', '163', '163.2', '163.5', '163.7', '164.7', '165',\n",
       "       '167.6', '167.62', '167.7', '168', '168.5', '168.7', '169', '170',\n",
       "       '171', '171.5', '174.3', '174.33', '174.5', '174.57', '175.56',\n",
       "       '175.67', '177', '177.01', '177.46', '177.5', '177.6', '178',\n",
       "       '178.4', '179.5', '180', '181', '181.03', '181.04', '181.43',\n",
       "       '183', '184', '185', '186', '187.4', '187.7', '187.74', '189',\n",
       "       '189.08', '190', '191.34', '192', '193.1', '194', '194.3', '197',\n",
       "       '197.2', '198.25', '198.5', '199.3', '200', '201', '201.1',\n",
       "       '201.15', '203', '203.2', '204', '207.8', '208', '210', '215',\n",
       "       '218', '224', '224.34', '226.6', '227', '231.1', '235', '236',\n",
       "       '237.4', '240', '241', '241.38', '241.4', '245', '246.7', '246.74',\n",
       "       '250', '254', '254.79', '254.8', '255', '258', '261', '261.49',\n",
       "       '261.5', '262.6', '265', '270.88', '270.9', '271.23', '271.72',\n",
       "       '272', '281.61', '282', '300', '301.73', '306', '308', '308.43',\n",
       "       '313', '320', '321', '333', '335.2', '335.3', '34.2', '340', '35',\n",
       "       '35.5', '362.07', '362.9', '364.9', '367', '37', '37.48', '37.5',\n",
       "       '38.4', '382', '387.3', '394.3', '395', '40.3', '402', '421',\n",
       "       '444', '450', '46.3', '47', '47.3', '48.21', '488.1', '500', '503',\n",
       "       '52.8', '53', '53.3', '53.5', '53.64', '55', '55.2', '55.23',\n",
       "       '550', '552', '56.3', '560', '57.5', '57.6', '58.16', '58.2',\n",
       "       '58.33', '60', '61', '62', '62.1', '63', '63.1', '63.12', '64',\n",
       "       '64.08', '64.1', '65', '65.3', '66', '66.1', '66.7', '67', '67.04',\n",
       "       '67.05', '67.06', '67.1', '68', '68.05', '68.1', '69', '69.01',\n",
       "       '70', '70.02', '71', '71.01', '73', '73.74', '73.75', '73.8',\n",
       "       '73.9', '73.94', '73.97', '74', '74.9', '74.93', '74.96', '75',\n",
       "       '75.94', '76', '76.8', '76.9', '77', '78', '78.9', '79.4', '80',\n",
       "       '80.46', '80.9', '81.80', '81.83', '81.86', '82', '82.4', '82.5',\n",
       "       '82.85', '82.9', '83', '83.1', '83.11', '83.14', '83.8', '83.83',\n",
       "       '84', '84.8', '85', '85.7', '85.8', '85.80', '86.7', '86.76',\n",
       "       '86.79', '86.8', '87.2', '88', '88.2', '88.5', '88.50', '88.7',\n",
       "       '88.73', '88.76', '88.8', '89.75', '89.84', '90', '91.1', '91.2',\n",
       "       '91.7', '91.72', '92', '92.7', '93', '93.7', '94', '94.68', '95',\n",
       "       '97.6', '97.7', '98.59', '98.6', '98.79', '98.82', '98.96', '99',\n",
       "       '99.6', 'null'], dtype='<U7')"
      ]
     },
     "execution_count": 24,
     "metadata": {},
     "output_type": "execute_result"
    }
   ],
   "source": [
    "np.unique(list(clean_data.Power))"
   ]
  },
  {
   "cell_type": "code",
   "execution_count": 27,
   "metadata": {},
   "outputs": [
    {
     "name": "stdout",
     "output_type": "stream",
     "text": [
      "(5844, 12)\n"
     ]
    },
    {
     "name": "stderr",
     "output_type": "stream",
     "text": [
      "C:\\Users\\hyuna\\anaconda3\\lib\\site-packages\\pandas\\core\\ops\\array_ops.py:253: FutureWarning: elementwise comparison failed; returning scalar instead, but in the future will perform elementwise comparison\n",
      "  res_values = method(rvalues)\n"
     ]
    }
   ],
   "source": [
    "# Power컬럼에 null이 있다!\n",
    "# null을 제거해주고 float으로 변경해주자\n",
    "clean_data = clean_data[clean_data.Power != 'null']\n",
    "\n",
    "clean_data['Power'] = clean_data['Power'].astype(float)\n",
    "print(clean_data.shape)"
   ]
  },
  {
   "cell_type": "code",
   "execution_count": 28,
   "metadata": {},
   "outputs": [
    {
     "data": {
      "text/plain": [
       "array([ 34.2  ,  35.   ,  35.5  ,  37.   ,  37.48 ,  37.5  ,  38.4  ,\n",
       "        40.3  ,  46.3  ,  47.   ,  47.3  ,  48.21 ,  52.8  ,  53.   ,\n",
       "        53.3  ,  53.5  ,  53.64 ,  55.   ,  55.2  ,  55.23 ,  56.3  ,\n",
       "        57.5  ,  57.6  ,  58.16 ,  58.2  ,  58.33 ,  60.   ,  61.   ,\n",
       "        62.   ,  62.1  ,  63.   ,  63.1  ,  63.12 ,  64.   ,  64.08 ,\n",
       "        64.1  ,  65.   ,  65.3  ,  66.   ,  66.1  ,  66.7  ,  67.   ,\n",
       "        67.04 ,  67.05 ,  67.06 ,  67.1  ,  68.   ,  68.05 ,  68.1  ,\n",
       "        69.   ,  69.01 ,  70.   ,  70.02 ,  71.   ,  71.01 ,  73.   ,\n",
       "        73.74 ,  73.75 ,  73.8  ,  73.9  ,  73.94 ,  73.97 ,  74.   ,\n",
       "        74.9  ,  74.93 ,  74.96 ,  75.   ,  75.94 ,  76.   ,  76.8  ,\n",
       "        76.9  ,  77.   ,  78.   ,  78.9  ,  79.4  ,  80.   ,  80.46 ,\n",
       "        80.9  ,  81.8  ,  81.83 ,  81.86 ,  82.   ,  82.4  ,  82.5  ,\n",
       "        82.85 ,  82.9  ,  83.   ,  83.1  ,  83.11 ,  83.14 ,  83.8  ,\n",
       "        83.83 ,  84.   ,  84.8  ,  85.   ,  85.7  ,  85.8  ,  86.7  ,\n",
       "        86.76 ,  86.79 ,  86.8  ,  87.2  ,  88.   ,  88.2  ,  88.5  ,\n",
       "        88.7  ,  88.73 ,  88.76 ,  88.8  ,  89.84 ,  90.   ,  91.1  ,\n",
       "        91.2  ,  91.7  ,  91.72 ,  92.   ,  92.7  ,  93.   ,  93.7  ,\n",
       "        94.   ,  94.68 ,  95.   ,  97.6  ,  97.7  ,  98.59 ,  98.6  ,\n",
       "        98.79 ,  98.82 ,  98.96 ,  99.   ,  99.6  , 100.   , 100.6  ,\n",
       "       101.   , 102.   , 102.5  , 102.53 , 102.57 , 103.   , 103.2  ,\n",
       "       103.25 , 103.3  , 103.5  , 103.52 , 103.6  , 104.   , 104.68 ,\n",
       "       105.   , 105.5  , 106.   , 107.2  , 107.3  , 108.4  , 108.45 ,\n",
       "       108.49 , 108.495, 108.5  , 108.62 , 110.   , 110.4  , 110.5  ,\n",
       "       112.   , 112.2  , 112.4  , 113.98 , 114.   , 114.4  , 115.   ,\n",
       "       116.3  , 116.4  , 116.6  , 116.9  , 117.3  , 118.   , 118.3  ,\n",
       "       118.6  , 120.   , 120.33 , 120.7  , 121.3  , 121.36 , 121.4  ,\n",
       "       122.   , 123.24 , 123.37 , 123.7  , 125.   , 126.2  , 126.24 ,\n",
       "       126.3  , 126.32 , 127.   , 130.   , 130.2  , 130.3  , 132.   ,\n",
       "       134.   , 135.1  , 136.   , 138.   , 138.02 , 138.03 , 138.08 ,\n",
       "       138.1  , 139.01 , 139.07 , 140.   , 140.8  , 141.   , 141.1  ,\n",
       "       142.   , 143.   , 144.   , 147.5  , 147.51 , 147.6  , 147.8  ,\n",
       "       147.9  , 148.   , 148.31 , 149.92 , 150.   , 152.   , 152.88 ,\n",
       "       153.86 , 154.   , 155.   , 156.   , 157.7  , 157.75 , 157.8  ,\n",
       "       158.   , 158.2  , 158.8  , 160.   , 161.6  , 162.   , 163.   ,\n",
       "       163.2  , 163.5  , 163.7  , 164.7  , 165.   , 167.6  , 167.62 ,\n",
       "       167.7  , 168.   , 168.5  , 168.7  , 169.   , 170.   , 171.   ,\n",
       "       171.5  , 174.3  , 174.33 , 174.5  , 174.57 , 175.56 , 175.67 ,\n",
       "       177.   , 177.01 , 177.46 , 177.5  , 177.6  , 178.   , 178.4  ,\n",
       "       179.5  , 180.   , 181.   , 181.03 , 181.04 , 181.43 , 183.   ,\n",
       "       184.   , 185.   , 186.   , 187.4  , 187.7  , 187.74 , 189.   ,\n",
       "       189.08 , 190.   , 191.34 , 192.   , 193.1  , 194.   , 194.3  ,\n",
       "       197.   , 197.2  , 198.25 , 198.5  , 199.3  , 200.   , 201.   ,\n",
       "       201.1  , 201.15 , 203.   , 203.2  , 204.   , 207.8  , 208.   ,\n",
       "       210.   , 215.   , 218.   , 224.   , 224.34 , 226.6  , 227.   ,\n",
       "       231.1  , 235.   , 236.   , 237.4  , 240.   , 241.   , 241.38 ,\n",
       "       241.4  , 245.   , 246.7  , 246.74 , 250.   , 254.   , 254.79 ,\n",
       "       254.8  , 255.   , 258.   , 261.   , 261.49 , 261.5  , 262.6  ,\n",
       "       265.   , 270.88 , 270.9  , 271.23 , 271.72 , 272.   , 281.61 ,\n",
       "       282.   , 300.   , 301.73 , 306.   , 308.   , 308.43 , 313.   ,\n",
       "       320.   , 321.   , 333.   , 335.2  , 335.3  , 340.   , 362.07 ,\n",
       "       362.9  , 364.9  , 367.   , 382.   , 387.3  , 394.3  , 395.   ,\n",
       "       402.   , 421.   , 444.   , 450.   , 488.1  , 500.   , 503.   ,\n",
       "       550.   , 552.   , 560.   ])"
      ]
     },
     "execution_count": 28,
     "metadata": {},
     "output_type": "execute_result"
    }
   ],
   "source": [
    "np.unique(list(clean_data.Power))"
   ]
  },
  {
   "cell_type": "code",
   "execution_count": 42,
   "metadata": {},
   "outputs": [
    {
     "name": "stdout",
     "output_type": "stream",
     "text": [
      "Index(['Kilometers_Driven', 'Mileage', 'Engine', 'Power', 'Price', 'Name_Audi',\n",
      "       'Name_BMW', 'Name_Bentley', 'Name_Chevrolet', 'Name_Datsun',\n",
      "       'Name_Fiat', 'Name_Force', 'Name_Ford', 'Name_Honda', 'Name_Hyundai',\n",
      "       'Name_ISUZU', 'Name_Isuzu', 'Name_Jaguar', 'Name_Jeep',\n",
      "       'Name_Lamborghini', 'Name_Land', 'Name_Mahindra', 'Name_Maruti',\n",
      "       'Name_Mercedes-Benz', 'Name_Mini', 'Name_Mitsubishi', 'Name_Nissan',\n",
      "       'Name_Porsche', 'Name_Renault', 'Name_Skoda', 'Name_Tata',\n",
      "       'Name_Toyota', 'Name_Volkswagen', 'Name_Volvo', 'Location_Bangalore',\n",
      "       'Location_Chennai', 'Location_Coimbatore', 'Location_Delhi',\n",
      "       'Location_Hyderabad', 'Location_Jaipur', 'Location_Kochi',\n",
      "       'Location_Kolkata', 'Location_Mumbai', 'Location_Pune', 'Year_1999',\n",
      "       'Year_2000', 'Year_2001', 'Year_2002', 'Year_2003', 'Year_2004',\n",
      "       'Year_2005', 'Year_2006', 'Year_2007', 'Year_2008', 'Year_2009',\n",
      "       'Year_2010', 'Year_2011', 'Year_2012', 'Year_2013', 'Year_2014',\n",
      "       'Year_2015', 'Year_2016', 'Year_2017', 'Year_2018', 'Year_2019',\n",
      "       'Fuel_Type_Diesel', 'Fuel_Type_LPG', 'Fuel_Type_Petrol',\n",
      "       'Transmission_Manual', 'Owner_Type_Fourth & Above', 'Owner_Type_Second',\n",
      "       'Owner_Type_Third', 'Seats_4.0', 'Seats_5.0', 'Seats_6.0', 'Seats_7.0',\n",
      "       'Seats_8.0', 'Seats_9.0', 'Seats_10.0'],\n",
      "      dtype='object')\n"
     ]
    },
    {
     "data": {
      "text/html": [
       "<div>\n",
       "<style scoped>\n",
       "    .dataframe tbody tr th:only-of-type {\n",
       "        vertical-align: middle;\n",
       "    }\n",
       "\n",
       "    .dataframe tbody tr th {\n",
       "        vertical-align: top;\n",
       "    }\n",
       "\n",
       "    .dataframe thead th {\n",
       "        text-align: right;\n",
       "    }\n",
       "</style>\n",
       "<table border=\"1\" class=\"dataframe\">\n",
       "  <thead>\n",
       "    <tr style=\"text-align: right;\">\n",
       "      <th></th>\n",
       "      <th>Kilometers_Driven</th>\n",
       "      <th>Mileage</th>\n",
       "      <th>Engine</th>\n",
       "      <th>Power</th>\n",
       "      <th>Price</th>\n",
       "      <th>Name_Audi</th>\n",
       "      <th>Name_BMW</th>\n",
       "      <th>Name_Bentley</th>\n",
       "      <th>Name_Chevrolet</th>\n",
       "      <th>Name_Datsun</th>\n",
       "      <th>...</th>\n",
       "      <th>Owner_Type_Fourth &amp; Above</th>\n",
       "      <th>Owner_Type_Second</th>\n",
       "      <th>Owner_Type_Third</th>\n",
       "      <th>Seats_4.0</th>\n",
       "      <th>Seats_5.0</th>\n",
       "      <th>Seats_6.0</th>\n",
       "      <th>Seats_7.0</th>\n",
       "      <th>Seats_8.0</th>\n",
       "      <th>Seats_9.0</th>\n",
       "      <th>Seats_10.0</th>\n",
       "    </tr>\n",
       "  </thead>\n",
       "  <tbody>\n",
       "    <tr>\n",
       "      <th>0</th>\n",
       "      <td>72000.0</td>\n",
       "      <td>26.60</td>\n",
       "      <td>998.0</td>\n",
       "      <td>58.16</td>\n",
       "      <td>1.75</td>\n",
       "      <td>0</td>\n",
       "      <td>0</td>\n",
       "      <td>0</td>\n",
       "      <td>0</td>\n",
       "      <td>0</td>\n",
       "      <td>...</td>\n",
       "      <td>0</td>\n",
       "      <td>0</td>\n",
       "      <td>0</td>\n",
       "      <td>0</td>\n",
       "      <td>1</td>\n",
       "      <td>0</td>\n",
       "      <td>0</td>\n",
       "      <td>0</td>\n",
       "      <td>0</td>\n",
       "      <td>0</td>\n",
       "    </tr>\n",
       "    <tr>\n",
       "      <th>1</th>\n",
       "      <td>41000.0</td>\n",
       "      <td>19.67</td>\n",
       "      <td>1582.0</td>\n",
       "      <td>126.20</td>\n",
       "      <td>12.50</td>\n",
       "      <td>0</td>\n",
       "      <td>0</td>\n",
       "      <td>0</td>\n",
       "      <td>0</td>\n",
       "      <td>0</td>\n",
       "      <td>...</td>\n",
       "      <td>0</td>\n",
       "      <td>0</td>\n",
       "      <td>0</td>\n",
       "      <td>0</td>\n",
       "      <td>1</td>\n",
       "      <td>0</td>\n",
       "      <td>0</td>\n",
       "      <td>0</td>\n",
       "      <td>0</td>\n",
       "      <td>0</td>\n",
       "    </tr>\n",
       "    <tr>\n",
       "      <th>2</th>\n",
       "      <td>46000.0</td>\n",
       "      <td>18.20</td>\n",
       "      <td>1199.0</td>\n",
       "      <td>88.70</td>\n",
       "      <td>4.50</td>\n",
       "      <td>0</td>\n",
       "      <td>0</td>\n",
       "      <td>0</td>\n",
       "      <td>0</td>\n",
       "      <td>0</td>\n",
       "      <td>...</td>\n",
       "      <td>0</td>\n",
       "      <td>0</td>\n",
       "      <td>0</td>\n",
       "      <td>0</td>\n",
       "      <td>1</td>\n",
       "      <td>0</td>\n",
       "      <td>0</td>\n",
       "      <td>0</td>\n",
       "      <td>0</td>\n",
       "      <td>0</td>\n",
       "    </tr>\n",
       "    <tr>\n",
       "      <th>3</th>\n",
       "      <td>87000.0</td>\n",
       "      <td>20.77</td>\n",
       "      <td>1248.0</td>\n",
       "      <td>88.76</td>\n",
       "      <td>6.00</td>\n",
       "      <td>0</td>\n",
       "      <td>0</td>\n",
       "      <td>0</td>\n",
       "      <td>0</td>\n",
       "      <td>0</td>\n",
       "      <td>...</td>\n",
       "      <td>0</td>\n",
       "      <td>0</td>\n",
       "      <td>0</td>\n",
       "      <td>0</td>\n",
       "      <td>0</td>\n",
       "      <td>0</td>\n",
       "      <td>1</td>\n",
       "      <td>0</td>\n",
       "      <td>0</td>\n",
       "      <td>0</td>\n",
       "    </tr>\n",
       "    <tr>\n",
       "      <th>4</th>\n",
       "      <td>40670.0</td>\n",
       "      <td>15.20</td>\n",
       "      <td>1968.0</td>\n",
       "      <td>140.80</td>\n",
       "      <td>17.74</td>\n",
       "      <td>1</td>\n",
       "      <td>0</td>\n",
       "      <td>0</td>\n",
       "      <td>0</td>\n",
       "      <td>0</td>\n",
       "      <td>...</td>\n",
       "      <td>0</td>\n",
       "      <td>1</td>\n",
       "      <td>0</td>\n",
       "      <td>0</td>\n",
       "      <td>1</td>\n",
       "      <td>0</td>\n",
       "      <td>0</td>\n",
       "      <td>0</td>\n",
       "      <td>0</td>\n",
       "      <td>0</td>\n",
       "    </tr>\n",
       "  </tbody>\n",
       "</table>\n",
       "<p>5 rows × 79 columns</p>\n",
       "</div>"
      ],
      "text/plain": [
       "   Kilometers_Driven  Mileage  Engine   Power  Price  Name_Audi  Name_BMW  \\\n",
       "0            72000.0    26.60   998.0   58.16   1.75          0         0   \n",
       "1            41000.0    19.67  1582.0  126.20  12.50          0         0   \n",
       "2            46000.0    18.20  1199.0   88.70   4.50          0         0   \n",
       "3            87000.0    20.77  1248.0   88.76   6.00          0         0   \n",
       "4            40670.0    15.20  1968.0  140.80  17.74          1         0   \n",
       "\n",
       "   Name_Bentley  Name_Chevrolet  Name_Datsun  ...  Owner_Type_Fourth & Above  \\\n",
       "0             0               0            0  ...                          0   \n",
       "1             0               0            0  ...                          0   \n",
       "2             0               0            0  ...                          0   \n",
       "3             0               0            0  ...                          0   \n",
       "4             0               0            0  ...                          0   \n",
       "\n",
       "   Owner_Type_Second  Owner_Type_Third  Seats_4.0  Seats_5.0  Seats_6.0  \\\n",
       "0                  0                 0          0          1          0   \n",
       "1                  0                 0          0          1          0   \n",
       "2                  0                 0          0          1          0   \n",
       "3                  0                 0          0          0          0   \n",
       "4                  1                 0          0          1          0   \n",
       "\n",
       "   Seats_7.0  Seats_8.0  Seats_9.0  Seats_10.0  \n",
       "0          0          0          0           0  \n",
       "1          0          0          0           0  \n",
       "2          0          0          0           0  \n",
       "3          1          0          0           0  \n",
       "4          0          0          0           0  \n",
       "\n",
       "[5 rows x 79 columns]"
      ]
     },
     "execution_count": 42,
     "metadata": {},
     "output_type": "execute_result"
    }
   ],
   "source": [
    "print(clean_data.columns)\n",
    "# 각 컬럼들을 categorical로 분류하여 데이터 프레임을 재정의\n",
    "# ex) Name 컬럼의 종류가 Hyundai, Audi라면 컬럼명을 Name_Hyundai, Name_Audi로\n",
    "'''clean_data['Year'] = pd.Categorical(clean_data['Year'])\n",
    "clean_data['Seats'] = pd.Categorical(clean_data['Seats'])\n",
    "\n",
    "clean_data = pd.get_dummies(clean_data, prefix_sep='_', drop_first=True)\n",
    "clean_data.head()'''\n",
    "clean_data.head()"
   ]
  },
  {
   "cell_type": "code",
   "execution_count": 43,
   "metadata": {},
   "outputs": [
    {
     "name": "stdout",
     "output_type": "stream",
     "text": [
      "(5844, 79)\n"
     ]
    }
   ],
   "source": [
    "print(clean_data.shape)"
   ]
  },
  {
   "cell_type": "code",
   "execution_count": 45,
   "metadata": {},
   "outputs": [
    {
     "data": {
      "image/png": "[encoded data removed]",
      "text/plain": [
       "<Figure size 1152x288 with 5 Axes>"
      ]
     },
     "metadata": {
      "needs_background": "light"
     },
     "output_type": "display_data"
    }
   ],
   "source": [
    "# Outlier를 확인해보자\n",
    "# outlier: 이상치, 너무 크거나 너무 작은 값\n",
    "fig, ax = plt.subplots(1, 5, figsize=(16,4))\n",
    "ax[0].boxplot(list(clean_data.Kilometers_Driven))\n",
    "ax[0].set_title(\"Kilometers Driven\")\n",
    "\n",
    "ax[1].boxplot(list(clean_data.Mileage))\n",
    "ax[1].set_title(\"Mileage\")\n",
    "\n",
    "ax[2].boxplot(list(clean_data.Engine))\n",
    "ax[2].set_title(\"Engine\")\n",
    "\n",
    "ax[3].boxplot(list(clean_data.Power))\n",
    "ax[3].set_title(\"Power\")\n",
    "\n",
    "ax[4].boxplot(list(clean_data.Price))\n",
    "ax[4].set_title(\"Price\")\n",
    "\n",
    "plt.show()"
   ]
  },
  {
   "cell_type": "code",
   "execution_count": 46,
   "metadata": {},
   "outputs": [],
   "source": [
    "# 확인해보니 Kilometers Driven에 유독 큰 값이 있음\n",
    "# 이를 제거해보자\n",
    "idx = []\n",
    "lt = list(clean_data[\"Kilometers_Driven\"])\n",
    "for i in range(len(lt)):\n",
    "    if(lt[i] > 1000000):\n",
    "        idx.append(i)\n",
    "clean_data = clean_data.drop(idx)\n",
    "clean_data = clean_data.reset_index(drop=True)"
   ]
  },
  {
   "cell_type": "code",
   "execution_count": 47,
   "metadata": {},
   "outputs": [
    {
     "data": {
      "image/png": "[encoded data removed]",
      "text/plain": [
       "<Figure size 1152x288 with 5 Axes>"
      ]
     },
     "metadata": {
      "needs_background": "light"
     },
     "output_type": "display_data"
    }
   ],
   "source": [
    "# Outlier를 다시 확인해보자\n",
    "fig, ax = plt.subplots(1, 5, figsize=(16,4))\n",
    "ax[0].boxplot(list(clean_data.Kilometers_Driven))\n",
    "ax[0].set_title(\"Kilometers Driven\")\n",
    "\n",
    "ax[1].boxplot(list(clean_data.Mileage))\n",
    "ax[1].set_title(\"Mileage\")\n",
    "\n",
    "ax[2].boxplot(list(clean_data.Engine))\n",
    "ax[2].set_title(\"Engine\")\n",
    "\n",
    "ax[3].boxplot(list(clean_data.Power))\n",
    "ax[3].set_title(\"Power\")\n",
    "\n",
    "ax[4].boxplot(list(clean_data.Price))\n",
    "ax[4].set_title(\"Price\")\n",
    "\n",
    "plt.show()"
   ]
  },
  {
   "cell_type": "code",
   "execution_count": 48,
   "metadata": {},
   "outputs": [],
   "source": [
    "# outlier가 없어졌다!\n",
    "# 이제 데이터셋을 생서해보자 \n",
    "# train data의 15퍼센트 정도를 test data에 사용\n",
    "y = clean_data[['Price']].to_numpy()\n",
    "clean_data = clean_data.drop(columns=['Price'])\n",
    "x = clean_data.values\n",
    "columns = clean_data.columns\n",
    "scaler = preprocessing.MinMaxScaler()\n",
    "tmp = scaler.fit_transform(x)\n",
    "clean_data = pd.DataFrame(tmp)\n",
    "clean_data.columns = columns\n",
    "\n",
    "x = clean_data.to_numpy()\n",
    "\n",
    "x_train, x_test, y_train, y_test = train_test_split(x, y, train_size=0.85, random_state=1)"
   ]
  },
  {
   "cell_type": "code",
   "execution_count": 49,
   "metadata": {},
   "outputs": [
    {
     "data": {
      "text/plain": [
       "LinearRegression(copy_X=True, fit_intercept=True, n_jobs=None, normalize=True)"
      ]
     },
     "execution_count": 49,
     "metadata": {},
     "output_type": "execute_result"
    }
   ],
   "source": [
    "# 모델링! 다중 선형 회귀 사용\n",
    "lr = LinearRegression(fit_intercept=True, normalize=True, copy_X=True)\n",
    "lr.fit(x_train, y_train)"
   ]
  },
  {
   "cell_type": "code",
   "execution_count": 50,
   "metadata": {},
   "outputs": [],
   "source": [
    "# 결과 확인"
   ]
  },
  {
   "cell_type": "code",
   "execution_count": 51,
   "metadata": {},
   "outputs": [
    {
     "name": "stdout",
     "output_type": "stream",
     "text": [
      "Train data Accuracy:  0.8011629967783105\n"
     ]
    }
   ],
   "source": [
    "# train data 정확도 측정\n",
    "print('Train data Accuracy: ', format(lr.score(x_train, y_train)))"
   ]
  },
  {
   "cell_type": "code",
   "execution_count": 52,
   "metadata": {},
   "outputs": [],
   "source": [
    "y_predict = lr.predict(x_test)"
   ]
  },
  {
   "cell_type": "code",
   "execution_count": 53,
   "metadata": {},
   "outputs": [
    {
     "name": "stdout",
     "output_type": "stream",
     "text": [
      "Test data Accuracy:  0.8107960180975305\n",
      "Test data Accuraty:  0.8107960180975305\n"
     ]
    }
   ],
   "source": [
    "# test data 정확도 측정\n",
    "print('Test data Accuracy: ', format(lr.score(x_test, y_test)))\n",
    "print('Test data Accuraty: ', format(r2_score(y_test, lr.predict(x_test))))"
   ]
  },
  {
   "cell_type": "code",
   "execution_count": 58,
   "metadata": {},
   "outputs": [
    {
     "data": {
      "text/plain": [
       "2.9624031980144654"
      ]
     },
     "execution_count": 58,
     "metadata": {},
     "output_type": "execute_result"
    }
   ],
   "source": [
    "mean_absolute_error(y_test, y_predict)"
   ]
  },
  {
   "cell_type": "code",
   "execution_count": null,
   "metadata": {},
   "outputs": [],
   "source": [
    "# price의 오차 296000루피 한화 480만원"
   ]
  }
 ],
 "metadata": {
  "kernelspec": {
   "display_name": "Python 3",
   "language": "python",
   "name": "python3"
  },
  "language_info": {
   "codemirror_mode": {
    "name": "ipython",
    "version": 3
   },
   "file_extension": ".py",
   "mimetype": "text/x-python",
   "name": "python",
   "nbconvert_exporter": "python",
   "pygments_lexer": "ipython3",
   "version": "3.7.6"
  }
 },
 "nbformat": 4,
 "nbformat_minor": 4
}
